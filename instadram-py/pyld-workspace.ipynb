{
 "cells": [
  {
   "cell_type": "code",
   "execution_count": 1,
   "metadata": {},
   "outputs": [],
   "source": [
    "import json\n",
    "import requests"
   ]
  },
  {
   "cell_type": "code",
   "execution_count": 2,
   "metadata": {},
   "outputs": [],
   "source": [
    "\n",
    "import sys\n",
    "from SPARQLWrapper import SPARQLWrapper, JSON"
   ]
  },
  {
   "cell_type": "code",
   "execution_count": 3,
   "metadata": {},
   "outputs": [],
   "source": [
    "endpoint_url = \"https://query.wikidata.org/sparql\""
   ]
  },
  {
   "cell_type": "code",
   "execution_count": 12,
   "metadata": {},
   "outputs": [],
   "source": [
    "def get_results(query):\n",
    "    user_agent = \"WDQS-example Python/%s.%s\" % (sys.version_info[0], sys.version_info[1])\n",
    "    # TODO adjust user agent; see https://w.wiki/CX6\n",
    "    sparql = SPARQLWrapper(endpoint_url, agent=user_agent)\n",
    "    sparql.setQuery(query)\n",
    "    sparql.setReturnFormat(JSON)\n",
    "    return sparql.query().convert()\n",
    "\n",
    "def get_cocktails():\n",
    "    # instance of IBA official cocktails\n",
    "    cocktail_response = get_results(\"\"\"\n",
    "        SELECT ?cocktail ?cocktailLabel WHERE {\n",
    "            ?cocktail wdt:P31 wd:Q2536409\n",
    "            SERVICE wikibase:label { bd:serviceParam wikibase:language \"[AUTO_LANGUAGE],en\". }\n",
    "        }\n",
    "    \"\"\")\n",
    "    return [\n",
    "        { 'name': cocktail['cocktailLabel']['value'], \n",
    "            'uri:': cocktail['cocktail']['value'] } \n",
    "        for cocktail in cocktail_response['results']['bindings']\n",
    "    ]\n",
    "\n",
    "def get_ingredients(cocktail_url):\n",
    "    ingredients_response = get_results(\"\"\"\n",
    "        \n",
    "    \"\"\")\n",
    "\n"
   ]
  },
  {
   "cell_type": "code",
   "execution_count": 13,
   "metadata": {},
   "outputs": [
    {
     "name": "stdout",
     "output_type": "stream",
     "text": [
      "[{'name': 'Corpse Reviver #2', 'uri:': 'http://www.wikidata.org/entity/Q105872968'}, {'name': 'Illegal', 'uri:': 'http://www.wikidata.org/entity/Q105897287'}, {'name': 'Bloody Mary', 'uri:': 'http://www.wikidata.org/entity/Q207711'}, {'name': 'Zombie', 'uri:': 'http://www.wikidata.org/entity/Q219141'}, {'name': 'Cosmopolitan', 'uri:': 'http://www.wikidata.org/entity/Q268057'}]\n"
     ]
    }
   ],
   "source": [
    "cocktails = get_cocktails()\n",
    "print(cocktails[:5])"
   ]
  }
 ],
 "metadata": {
  "kernelspec": {
   "display_name": "Python 3.10.6 ('.venv': poetry)",
   "language": "python",
   "name": "python3"
  },
  "language_info": {
   "codemirror_mode": {
    "name": "ipython",
    "version": 3
   },
   "file_extension": ".py",
   "mimetype": "text/x-python",
   "name": "python",
   "nbconvert_exporter": "python",
   "pygments_lexer": "ipython3",
   "version": "3.10.6"
  },
  "orig_nbformat": 4,
  "vscode": {
   "interpreter": {
    "hash": "b0babc3d17865df736cf952014dacb514fda0e7c2e46ca99e22cee04d768ca3c"
   }
  }
 },
 "nbformat": 4,
 "nbformat_minor": 2
}
