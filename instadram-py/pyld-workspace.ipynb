{
 "cells": [
  {
   "cell_type": "code",
   "execution_count": 1,
   "metadata": {},
   "outputs": [],
   "source": [
    "import json\n",
    "import requests"
   ]
  },
  {
   "cell_type": "code",
   "execution_count": 2,
   "metadata": {},
   "outputs": [],
   "source": [
    "\n",
    "import sys\n",
    "from SPARQLWrapper import SPARQLWrapper, JSON"
   ]
  },
  {
   "cell_type": "code",
   "execution_count": 3,
   "metadata": {},
   "outputs": [],
   "source": [
    "endpoint_url = \"https://query.wikidata.org/sparql\""
   ]
  },
  {
   "cell_type": "code",
   "execution_count": 25,
   "metadata": {},
   "outputs": [],
   "source": [
    "def get_results(query):\n",
    "    user_agent = \"WDQS-example Python/%s.%s\" % (sys.version_info[0], sys.version_info[1])\n",
    "    # TODO adjust user agent; see https://w.wiki/CX6\n",
    "    sparql = SPARQLWrapper(endpoint_url, agent=user_agent)\n",
    "    sparql.setQuery(query)\n",
    "    sparql.setReturnFormat(JSON)\n",
    "    return sparql.query().convert()\n",
    "\n",
    "def get_cocktails():\n",
    "    # instance of IBA official cocktails\n",
    "    cocktail_response = get_results(\"\"\"\n",
    "        SELECT \n",
    "            ?cocktail ?cocktailLabel ?cocktailDescription ?materialStmt ?quantity ?unitLabel ?ingredient ?ingredientLabel\n",
    "        WHERE {   \n",
    "            ?cocktail wdt:P31 wd:Q2536409;\n",
    "                    p:P186 ?materialStmt.\n",
    "            ?materialStmt ps:P186 ?ingredient;\n",
    "                        pqv:P1114 [wikibase:quantityAmount ?quantity; wikibase:quantityUnit ?unit ].\n",
    "            MINUS { ?material wdt:P31 wd:Q81727. }\n",
    "            SERVICE wikibase:label { bd:serviceParam wikibase:language \"[AUTO_LANGUAGE],en\". }\n",
    "        } ORDER BY (?cocktail)\n",
    "    \"\"\")\n",
    "\n",
    "    # return [\n",
    "    #     { 'name': cocktail['cocktailLabel']['value'], \n",
    "    #         'uri:': cocktail['cocktail']['value'] } \n",
    "    #     for cocktail in cocktail_response['results']['bindings']\n",
    "    # ]\n",
    "    return cocktail_response\n",
    "\n",
    "def parse_cocktails(cocktail_data):\n",
    "    cocktails = [\n",
    "        {\n",
    "            \"url\": cocktail['cocktail']['value'],\n",
    "            \"title\": cocktail['cocktailLabel']['value'],\n",
    "            \"description\": cocktail.get('cocktailDescription', 'no description')\n",
    "        }\n",
    "        for cocktail in cocktail_data['results']['bindings']\n",
    "    ]\n",
    "\n"
   ]
  },
  {
   "cell_type": "code",
   "execution_count": 26,
   "metadata": {},
   "outputs": [
    {
     "ename": "TypeError",
     "evalue": "'NoneType' object is not subscriptable",
     "output_type": "error",
     "traceback": [
      "\u001b[0;31m---------------------------------------------------------------------------\u001b[0m",
      "\u001b[0;31mTypeError\u001b[0m                                 Traceback (most recent call last)",
      "Cell \u001b[0;32mIn [26], line 2\u001b[0m\n\u001b[1;32m      1\u001b[0m cocktails \u001b[39m=\u001b[39m get_cocktails()\n\u001b[0;32m----> 2\u001b[0m \u001b[39mprint\u001b[39m(parse_cocktails(cocktails)[:\u001b[39m5\u001b[39m])\n",
      "\u001b[0;31mTypeError\u001b[0m: 'NoneType' object is not subscriptable"
     ]
    }
   ],
   "source": [
    "cocktails = get_cocktails()\n",
    "print(parse_cocktails(cocktails)[:5])"
   ]
  }
 ],
 "metadata": {
  "kernelspec": {
   "display_name": "Python 3.10.6 ('.venv': poetry)",
   "language": "python",
   "name": "python3"
  },
  "language_info": {
   "codemirror_mode": {
    "name": "ipython",
    "version": 3
   },
   "file_extension": ".py",
   "mimetype": "text/x-python",
   "name": "python",
   "nbconvert_exporter": "python",
   "pygments_lexer": "ipython3",
   "version": "3.10.6"
  },
  "orig_nbformat": 4,
  "vscode": {
   "interpreter": {
    "hash": "b0babc3d17865df736cf952014dacb514fda0e7c2e46ca99e22cee04d768ca3c"
   }
  }
 },
 "nbformat": 4,
 "nbformat_minor": 2
}
